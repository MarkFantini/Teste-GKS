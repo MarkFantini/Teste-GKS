{
 "cells": [
  {
   "cell_type": "markdown",
   "metadata": {},
   "source": [
    "# Introdução"
   ]
  },
  {
   "cell_type": "markdown",
   "metadata": {},
   "source": [
    "Neste arquivo nos propomos a fazer uma análise dos dados a respeito de quantidade de unidades locais a partir de um arquivo contendo o nível da análise (grande região, unidade da federação ou município), o código referente ao nível (um número inteiro), qual é a região/federação/município, o ano referente aos dados, a classificação do CNAE (com código e nome da atividade), e a quantidade de unidades locais.\n",
    "\n",
    "As seguintes análises foram feitas:\n",
    "- Construção de tabelas com as 5 atividades com maiores quantidades de unidades locais, nos níveis de grande região, unidade da federação e municipal;\n",
    "- Para cada tabela construímos uma tabela pivô, indexada pela atividade e com colunas representando cada região para facilitar as comparações;\n",
    "- Finalmente, construímos uma análise gráfica das comparações obtidas.\n",
    "\n",
    "Todas as análises foram inicialmente feitas com o ano de 2021. Na sequência comparou-se os valores com anos anteriores, verificando se houve continuidade dos anos anteriores ou se houve quebra no padrão.\n",
    "\n",
    "O arquivo enviado não comporta todos os dados que possivelmente poderiam ser exportados, uma vez que o programa Excel possui um limite de 1.048.586 linhas por planilha. Acredita-se que os dados foram exportados do programa PowerBI, que possui um limite muito maior, o que limitou a análise."
   ]
  },
  {
   "cell_type": "markdown",
   "metadata": {},
   "source": [
    "# Tratamento dos dados"
   ]
  },
  {
   "cell_type": "markdown",
   "metadata": {},
   "source": [
    "## Importação das bibliotecas"
   ]
  },
  {
   "cell_type": "code",
   "execution_count": 1,
   "metadata": {},
   "outputs": [
    {
     "name": "stdout",
     "output_type": "stream",
     "text": [
      "Importação finalizada\n"
     ]
    }
   ],
   "source": [
    "import numpy as np\n",
    "import pandas as pd\n",
    "import matplotlib.pyplot as plt\n",
    "\n",
    "print('Importação finalizada')"
   ]
  },
  {
   "cell_type": "markdown",
   "metadata": {},
   "source": [
    "## Leitura dos dados"
   ]
  },
  {
   "cell_type": "markdown",
   "metadata": {},
   "source": [
    "### Observações importantes sobre a leitura dos dados"
   ]
  },
  {
   "cell_type": "markdown",
   "metadata": {},
   "source": [
    "Duas observações importantes no tratamento dos dados: primeiramente, foi necessário salvar a tabela original de Excel em outro arquivo, nomeado `dados_gks_2.xlsx`, para poder fazer sua leitura pelo pacote `pandas`. Segundo, acredito que os dados eram originalmente do PowerBI, que possui um limite maior de gerenciamento de dados. \n",
    "\n",
    "O Excel possui uma limitação de 1.048.576 linhas por planilha, que gerou erros na abertura do arquivo e ocasionou a necessidade de salvar em um arquivo diferente. É melhor exportar os dados em formato `.csv`, que é mais leve que o Excel e não possui tal limitação."
   ]
  },
  {
   "cell_type": "code",
   "execution_count": 2,
   "metadata": {},
   "outputs": [
    {
     "data": {
      "text/html": [
       "<div>\n",
       "<style scoped>\n",
       "    .dataframe tbody tr th:only-of-type {\n",
       "        vertical-align: middle;\n",
       "    }\n",
       "\n",
       "    .dataframe tbody tr th {\n",
       "        vertical-align: top;\n",
       "    }\n",
       "\n",
       "    .dataframe thead th {\n",
       "        text-align: right;\n",
       "    }\n",
       "</style>\n",
       "<table border=\"1\" class=\"dataframe\">\n",
       "  <thead>\n",
       "    <tr style=\"text-align: right;\">\n",
       "      <th></th>\n",
       "      <th>Nível</th>\n",
       "      <th>Cód.</th>\n",
       "      <th>Grande Região, Unidade da Federação e Município</th>\n",
       "      <th>Ano</th>\n",
       "      <th>Classificação Nacional de Atividades Econômicas (CNAE 2.0)</th>\n",
       "      <th>Unnamed: 5</th>\n",
       "    </tr>\n",
       "  </thead>\n",
       "  <tbody>\n",
       "    <tr>\n",
       "      <th>0</th>\n",
       "      <td>GR</td>\n",
       "      <td>1.0</td>\n",
       "      <td>Norte</td>\n",
       "      <td>2017.0</td>\n",
       "      <td>49 Transporte terrestre</td>\n",
       "      <td>5173</td>\n",
       "    </tr>\n",
       "    <tr>\n",
       "      <th>1</th>\n",
       "      <td>NaN</td>\n",
       "      <td>NaN</td>\n",
       "      <td>NaN</td>\n",
       "      <td>NaN</td>\n",
       "      <td>49.1 Transporte ferroviário e metroferroviário</td>\n",
       "      <td>7</td>\n",
       "    </tr>\n",
       "    <tr>\n",
       "      <th>2</th>\n",
       "      <td>NaN</td>\n",
       "      <td>NaN</td>\n",
       "      <td>NaN</td>\n",
       "      <td>NaN</td>\n",
       "      <td>49.11-6 Transporte ferroviário de carga</td>\n",
       "      <td>7</td>\n",
       "    </tr>\n",
       "    <tr>\n",
       "      <th>3</th>\n",
       "      <td>NaN</td>\n",
       "      <td>NaN</td>\n",
       "      <td>NaN</td>\n",
       "      <td>NaN</td>\n",
       "      <td>49.12-4 Transporte metroferroviário de passage...</td>\n",
       "      <td>-</td>\n",
       "    </tr>\n",
       "    <tr>\n",
       "      <th>4</th>\n",
       "      <td>NaN</td>\n",
       "      <td>NaN</td>\n",
       "      <td>NaN</td>\n",
       "      <td>NaN</td>\n",
       "      <td>49.21-3 Transporte rodoviário coletivo de pass...</td>\n",
       "      <td>395</td>\n",
       "    </tr>\n",
       "  </tbody>\n",
       "</table>\n",
       "</div>"
      ],
      "text/plain": [
       "  Nível  Cód. Grande Região, Unidade da Federação e Município     Ano  \\\n",
       "0    GR   1.0                                           Norte  2017.0   \n",
       "1   NaN   NaN                                             NaN     NaN   \n",
       "2   NaN   NaN                                             NaN     NaN   \n",
       "3   NaN   NaN                                             NaN     NaN   \n",
       "4   NaN   NaN                                             NaN     NaN   \n",
       "\n",
       "  Classificação Nacional de Atividades Econômicas (CNAE 2.0) Unnamed: 5  \n",
       "0                            49 Transporte terrestre               5173  \n",
       "1     49.1 Transporte ferroviário e metroferroviário                  7  \n",
       "2            49.11-6 Transporte ferroviário de carga                  7  \n",
       "3  49.12-4 Transporte metroferroviário de passage...                  -  \n",
       "4  49.21-3 Transporte rodoviário coletivo de pass...                395  "
      ]
     },
     "execution_count": 2,
     "metadata": {},
     "output_type": "execute_result"
    }
   ],
   "source": [
    "# Leitura do arquivo excel\n",
    "df = pd.read_excel('dados_gks_2.xlsx', skiprows=2, sheet_name='Tabela')\n",
    "df.head()"
   ]
  },
  {
   "cell_type": "markdown",
   "metadata": {},
   "source": [
    "Pela inicialização da tabela vemos alguns pontos que precisam ser tratados:\n",
    "- Existem muitos dados faltantes (representados pela sigla `NaN`, que significa `Not a Number`) com diferentes naturezas: os dados faltantes de nível, código, região e ano referem-se a uma extensão do primeiro valor não-nulo. Por exemplo, nas cinco linhas mostradas basta repetir as informações da primeira (pois todas as linhas correspondem ao mesmo nível, código, região, e ano). Entretanto, os dados faltantes na última coluna referem-se às quantidades de unidades locais na determinada região, ou seja, a falta de dado será tratada como falta de pessoas naquela atividade. Portanto, esses dados faltantes serão substituídos por zero;\n",
    "- A classificação do CNAE será mais legível se dividirmos em duas novas colunas: uma coluna para o código e uma coluna para a descrição da atividade;\n",
    "- A última coluna precisa ser renomeada, pois a leitura automática da tabela não interpretou o nome ou o nome não foi fornecido nos dados."
   ]
  },
  {
   "cell_type": "code",
   "execution_count": 3,
   "metadata": {},
   "outputs": [
    {
     "data": {
      "text/html": [
       "<div>\n",
       "<style scoped>\n",
       "    .dataframe tbody tr th:only-of-type {\n",
       "        vertical-align: middle;\n",
       "    }\n",
       "\n",
       "    .dataframe tbody tr th {\n",
       "        vertical-align: top;\n",
       "    }\n",
       "\n",
       "    .dataframe thead th {\n",
       "        text-align: right;\n",
       "    }\n",
       "</style>\n",
       "<table border=\"1\" class=\"dataframe\">\n",
       "  <thead>\n",
       "    <tr style=\"text-align: right;\">\n",
       "      <th></th>\n",
       "      <th>Nível</th>\n",
       "      <th>Cód.</th>\n",
       "      <th>Grande Região, Unidade da Federação e Município</th>\n",
       "      <th>Ano</th>\n",
       "      <th>Classificação Nacional de Atividades Econômicas (CNAE 2.0)</th>\n",
       "      <th>Unidades locais</th>\n",
       "    </tr>\n",
       "  </thead>\n",
       "  <tbody>\n",
       "    <tr>\n",
       "      <th>0</th>\n",
       "      <td>GR</td>\n",
       "      <td>1.0</td>\n",
       "      <td>Norte</td>\n",
       "      <td>2017.0</td>\n",
       "      <td>49 Transporte terrestre</td>\n",
       "      <td>5173</td>\n",
       "    </tr>\n",
       "    <tr>\n",
       "      <th>1</th>\n",
       "      <td>NaN</td>\n",
       "      <td>NaN</td>\n",
       "      <td>NaN</td>\n",
       "      <td>NaN</td>\n",
       "      <td>49.1 Transporte ferroviário e metroferroviário</td>\n",
       "      <td>7</td>\n",
       "    </tr>\n",
       "    <tr>\n",
       "      <th>2</th>\n",
       "      <td>NaN</td>\n",
       "      <td>NaN</td>\n",
       "      <td>NaN</td>\n",
       "      <td>NaN</td>\n",
       "      <td>49.11-6 Transporte ferroviário de carga</td>\n",
       "      <td>7</td>\n",
       "    </tr>\n",
       "    <tr>\n",
       "      <th>3</th>\n",
       "      <td>NaN</td>\n",
       "      <td>NaN</td>\n",
       "      <td>NaN</td>\n",
       "      <td>NaN</td>\n",
       "      <td>49.12-4 Transporte metroferroviário de passage...</td>\n",
       "      <td>-</td>\n",
       "    </tr>\n",
       "    <tr>\n",
       "      <th>4</th>\n",
       "      <td>NaN</td>\n",
       "      <td>NaN</td>\n",
       "      <td>NaN</td>\n",
       "      <td>NaN</td>\n",
       "      <td>49.21-3 Transporte rodoviário coletivo de pass...</td>\n",
       "      <td>395</td>\n",
       "    </tr>\n",
       "  </tbody>\n",
       "</table>\n",
       "</div>"
      ],
      "text/plain": [
       "  Nível  Cód. Grande Região, Unidade da Federação e Município     Ano  \\\n",
       "0    GR   1.0                                           Norte  2017.0   \n",
       "1   NaN   NaN                                             NaN     NaN   \n",
       "2   NaN   NaN                                             NaN     NaN   \n",
       "3   NaN   NaN                                             NaN     NaN   \n",
       "4   NaN   NaN                                             NaN     NaN   \n",
       "\n",
       "  Classificação Nacional de Atividades Econômicas (CNAE 2.0) Unidades locais  \n",
       "0                            49 Transporte terrestre                    5173  \n",
       "1     49.1 Transporte ferroviário e metroferroviário                       7  \n",
       "2            49.11-6 Transporte ferroviário de carga                       7  \n",
       "3  49.12-4 Transporte metroferroviário de passage...                       -  \n",
       "4  49.21-3 Transporte rodoviário coletivo de pass...                     395  "
      ]
     },
     "execution_count": 3,
     "metadata": {},
     "output_type": "execute_result"
    }
   ],
   "source": [
    "# Renomeando a coluna\n",
    "df.rename(columns={'Unnamed: 5' : 'Unidades locais'}, inplace=True)\n",
    "df.head()"
   ]
  },
  {
   "cell_type": "markdown",
   "metadata": {},
   "source": [
    "Fazemos agora uma contagem de quantos valores não-nulos existem, assim como os formatos de dados que foram armazenados os dados da tabela."
   ]
  },
  {
   "cell_type": "code",
   "execution_count": 4,
   "metadata": {},
   "outputs": [
    {
     "name": "stdout",
     "output_type": "stream",
     "text": [
      "<class 'pandas.core.frame.DataFrame'>\n",
      "RangeIndex: 1048573 entries, 0 to 1048572\n",
      "Data columns (total 6 columns):\n",
      " #   Column                                                      Non-Null Count    Dtype  \n",
      "---  ------                                                      --------------    -----  \n",
      " 0   Nível                                                       3813 non-null     object \n",
      " 1   Cód.                                                        3813 non-null     float64\n",
      " 2   Grande Região, Unidade da Federação e Município             3813 non-null     object \n",
      " 3   Ano                                                         19065 non-null    float64\n",
      " 4   Classificação Nacional de Atividades Econômicas (CNAE 2.0)  1048573 non-null  object \n",
      " 5   Unidades locais                                             1048573 non-null  object \n",
      "dtypes: float64(2), object(4)\n",
      "memory usage: 48.0+ MB\n"
     ]
    }
   ],
   "source": [
    "df.info()"
   ]
  },
  {
   "cell_type": "markdown",
   "metadata": {},
   "source": [
    "Observamos que existem 3813 valores não-nulos para as colunas `Nível`, `Cód.` e `Grande Região, Unidade da Federação e Município`. Isso corrobora a ideia de que essas informações aparecem uma vez e repetem-se para as linhas abaixo, conforme mostrado na primeira linha da tabela."
   ]
  },
  {
   "cell_type": "markdown",
   "metadata": {},
   "source": [
    "O comando também mostrou que:\n",
    "- As colunas `Nível`, `Grande Região, Unidade da Federação e Município`, `Classificação Nacional de Atividades Econômicas (CNAE 2.0)`e `Unidades locais` possuem formato de dado `object`, que é o formato adotado pelo pacote `pandas` quando não é capaz de inferir o tipo correto de dado; e\n",
    "- As colunas `Cód.` e `Ano` estão com formato `float64`, para dados numéricos decimais."
   ]
  },
  {
   "cell_type": "markdown",
   "metadata": {},
   "source": [
    "Como próximo passo, mostramos quantos dados nulos aparecem na tabela."
   ]
  },
  {
   "cell_type": "code",
   "execution_count": 5,
   "metadata": {},
   "outputs": [
    {
     "data": {
      "text/plain": [
       "Nível                                                         1044760\n",
       "Cód.                                                          1044760\n",
       "Grande Região, Unidade da Federação e Município               1044760\n",
       "Ano                                                           1029508\n",
       "Classificação Nacional de Atividades Econômicas (CNAE 2.0)          0\n",
       "Unidades locais                                                     0\n",
       "dtype: int64"
      ]
     },
     "execution_count": 5,
     "metadata": {},
     "output_type": "execute_result"
    }
   ],
   "source": [
    "df.isna().sum()"
   ]
  },
  {
   "cell_type": "markdown",
   "metadata": {},
   "source": [
    "Antes de preencher os dados faltantes faremos uma alteração, transformando a coluna `Classificação Nacional de Atividades Econômicas (CNAE 2.0)` em duas colunas, uma coluna contendo o código CNAE e outra contendo o nome da atividade, em seguida deletando a coluna."
   ]
  },
  {
   "cell_type": "code",
   "execution_count": 6,
   "metadata": {},
   "outputs": [
    {
     "data": {
      "text/html": [
       "<div>\n",
       "<style scoped>\n",
       "    .dataframe tbody tr th:only-of-type {\n",
       "        vertical-align: middle;\n",
       "    }\n",
       "\n",
       "    .dataframe tbody tr th {\n",
       "        vertical-align: top;\n",
       "    }\n",
       "\n",
       "    .dataframe thead th {\n",
       "        text-align: right;\n",
       "    }\n",
       "</style>\n",
       "<table border=\"1\" class=\"dataframe\">\n",
       "  <thead>\n",
       "    <tr style=\"text-align: right;\">\n",
       "      <th></th>\n",
       "      <th>Nível</th>\n",
       "      <th>Cód.</th>\n",
       "      <th>Grande Região, Unidade da Federação e Município</th>\n",
       "      <th>Ano</th>\n",
       "      <th>Unidades locais</th>\n",
       "      <th>Código CNAE</th>\n",
       "      <th>Atividade</th>\n",
       "    </tr>\n",
       "  </thead>\n",
       "  <tbody>\n",
       "    <tr>\n",
       "      <th>0</th>\n",
       "      <td>GR</td>\n",
       "      <td>1.0</td>\n",
       "      <td>Norte</td>\n",
       "      <td>2017.0</td>\n",
       "      <td>5173</td>\n",
       "      <td>49</td>\n",
       "      <td>Transporte terrestre</td>\n",
       "    </tr>\n",
       "    <tr>\n",
       "      <th>1</th>\n",
       "      <td>NaN</td>\n",
       "      <td>NaN</td>\n",
       "      <td>NaN</td>\n",
       "      <td>NaN</td>\n",
       "      <td>7</td>\n",
       "      <td>49.1</td>\n",
       "      <td>Transporte ferroviário e metroferroviário</td>\n",
       "    </tr>\n",
       "    <tr>\n",
       "      <th>2</th>\n",
       "      <td>NaN</td>\n",
       "      <td>NaN</td>\n",
       "      <td>NaN</td>\n",
       "      <td>NaN</td>\n",
       "      <td>7</td>\n",
       "      <td>49.11-6</td>\n",
       "      <td>Transporte ferroviário de carga</td>\n",
       "    </tr>\n",
       "    <tr>\n",
       "      <th>3</th>\n",
       "      <td>NaN</td>\n",
       "      <td>NaN</td>\n",
       "      <td>NaN</td>\n",
       "      <td>NaN</td>\n",
       "      <td>-</td>\n",
       "      <td>49.12-4</td>\n",
       "      <td>Transporte metroferroviário de passageiros</td>\n",
       "    </tr>\n",
       "    <tr>\n",
       "      <th>4</th>\n",
       "      <td>NaN</td>\n",
       "      <td>NaN</td>\n",
       "      <td>NaN</td>\n",
       "      <td>NaN</td>\n",
       "      <td>395</td>\n",
       "      <td>49.21-3</td>\n",
       "      <td>Transporte rodoviário coletivo de passageiros,...</td>\n",
       "    </tr>\n",
       "  </tbody>\n",
       "</table>\n",
       "</div>"
      ],
      "text/plain": [
       "  Nível  Cód. Grande Região, Unidade da Federação e Município     Ano  \\\n",
       "0    GR   1.0                                           Norte  2017.0   \n",
       "1   NaN   NaN                                             NaN     NaN   \n",
       "2   NaN   NaN                                             NaN     NaN   \n",
       "3   NaN   NaN                                             NaN     NaN   \n",
       "4   NaN   NaN                                             NaN     NaN   \n",
       "\n",
       "  Unidades locais Código CNAE  \\\n",
       "0            5173          49   \n",
       "1               7        49.1   \n",
       "2               7     49.11-6   \n",
       "3               -     49.12-4   \n",
       "4             395     49.21-3   \n",
       "\n",
       "                                           Atividade  \n",
       "0                               Transporte terrestre  \n",
       "1          Transporte ferroviário e metroferroviário  \n",
       "2                    Transporte ferroviário de carga  \n",
       "3         Transporte metroferroviário de passageiros  \n",
       "4  Transporte rodoviário coletivo de passageiros,...  "
      ]
     },
     "execution_count": 6,
     "metadata": {},
     "output_type": "execute_result"
    }
   ],
   "source": [
    "df[['Código CNAE', 'Atividade']] = df['Classificação Nacional de Atividades Econômicas (CNAE 2.0)'].str.extract(r'^([\\d.-]+)\\s(.*)$')\n",
    "df = df.drop(columns=['Classificação Nacional de Atividades Econômicas (CNAE 2.0)'])\n",
    "df.head()"
   ]
  },
  {
   "cell_type": "markdown",
   "metadata": {},
   "source": [
    "Reordenamos as colunas para voltar ao formato com o código e atividade antes da quantidade de unidades locais."
   ]
  },
  {
   "cell_type": "code",
   "execution_count": 7,
   "metadata": {},
   "outputs": [
    {
     "data": {
      "text/html": [
       "<div>\n",
       "<style scoped>\n",
       "    .dataframe tbody tr th:only-of-type {\n",
       "        vertical-align: middle;\n",
       "    }\n",
       "\n",
       "    .dataframe tbody tr th {\n",
       "        vertical-align: top;\n",
       "    }\n",
       "\n",
       "    .dataframe thead th {\n",
       "        text-align: right;\n",
       "    }\n",
       "</style>\n",
       "<table border=\"1\" class=\"dataframe\">\n",
       "  <thead>\n",
       "    <tr style=\"text-align: right;\">\n",
       "      <th></th>\n",
       "      <th>Nível</th>\n",
       "      <th>Cód.</th>\n",
       "      <th>Grande Região, Unidade da Federação e Município</th>\n",
       "      <th>Ano</th>\n",
       "      <th>Código CNAE</th>\n",
       "      <th>Atividade</th>\n",
       "      <th>Unidades locais</th>\n",
       "    </tr>\n",
       "  </thead>\n",
       "  <tbody>\n",
       "    <tr>\n",
       "      <th>0</th>\n",
       "      <td>GR</td>\n",
       "      <td>1.0</td>\n",
       "      <td>Norte</td>\n",
       "      <td>2017.0</td>\n",
       "      <td>49</td>\n",
       "      <td>Transporte terrestre</td>\n",
       "      <td>5173</td>\n",
       "    </tr>\n",
       "    <tr>\n",
       "      <th>1</th>\n",
       "      <td>NaN</td>\n",
       "      <td>NaN</td>\n",
       "      <td>NaN</td>\n",
       "      <td>NaN</td>\n",
       "      <td>49.1</td>\n",
       "      <td>Transporte ferroviário e metroferroviário</td>\n",
       "      <td>7</td>\n",
       "    </tr>\n",
       "    <tr>\n",
       "      <th>2</th>\n",
       "      <td>NaN</td>\n",
       "      <td>NaN</td>\n",
       "      <td>NaN</td>\n",
       "      <td>NaN</td>\n",
       "      <td>49.11-6</td>\n",
       "      <td>Transporte ferroviário de carga</td>\n",
       "      <td>7</td>\n",
       "    </tr>\n",
       "    <tr>\n",
       "      <th>3</th>\n",
       "      <td>NaN</td>\n",
       "      <td>NaN</td>\n",
       "      <td>NaN</td>\n",
       "      <td>NaN</td>\n",
       "      <td>49.12-4</td>\n",
       "      <td>Transporte metroferroviário de passageiros</td>\n",
       "      <td>-</td>\n",
       "    </tr>\n",
       "    <tr>\n",
       "      <th>4</th>\n",
       "      <td>NaN</td>\n",
       "      <td>NaN</td>\n",
       "      <td>NaN</td>\n",
       "      <td>NaN</td>\n",
       "      <td>49.21-3</td>\n",
       "      <td>Transporte rodoviário coletivo de passageiros,...</td>\n",
       "      <td>395</td>\n",
       "    </tr>\n",
       "  </tbody>\n",
       "</table>\n",
       "</div>"
      ],
      "text/plain": [
       "  Nível  Cód. Grande Região, Unidade da Federação e Município     Ano  \\\n",
       "0    GR   1.0                                           Norte  2017.0   \n",
       "1   NaN   NaN                                             NaN     NaN   \n",
       "2   NaN   NaN                                             NaN     NaN   \n",
       "3   NaN   NaN                                             NaN     NaN   \n",
       "4   NaN   NaN                                             NaN     NaN   \n",
       "\n",
       "  Código CNAE                                          Atividade  \\\n",
       "0          49                               Transporte terrestre   \n",
       "1        49.1          Transporte ferroviário e metroferroviário   \n",
       "2     49.11-6                    Transporte ferroviário de carga   \n",
       "3     49.12-4         Transporte metroferroviário de passageiros   \n",
       "4     49.21-3  Transporte rodoviário coletivo de passageiros,...   \n",
       "\n",
       "  Unidades locais  \n",
       "0            5173  \n",
       "1               7  \n",
       "2               7  \n",
       "3               -  \n",
       "4             395  "
      ]
     },
     "execution_count": 7,
     "metadata": {},
     "output_type": "execute_result"
    }
   ],
   "source": [
    "df = df.reindex(columns=['Nível', 'Cód.', 'Grande Região, Unidade da Federação e Município', 'Ano', 'Código CNAE', 'Atividade', 'Unidades locais'])\n",
    "df.head()"
   ]
  },
  {
   "cell_type": "markdown",
   "metadata": {},
   "source": [
    "Agora preenchemos os dados faltantes das colunas `Nível`, `Cód.`, `Grande Região, Unidade da Federação e Município`, e `Ano` com o método `forward-fill`, que copia a primeira célula não-vazia até encontrar outra célula não-vazia, repetindo o processo."
   ]
  },
  {
   "cell_type": "code",
   "execution_count": 8,
   "metadata": {},
   "outputs": [
    {
     "data": {
      "text/html": [
       "<div>\n",
       "<style scoped>\n",
       "    .dataframe tbody tr th:only-of-type {\n",
       "        vertical-align: middle;\n",
       "    }\n",
       "\n",
       "    .dataframe tbody tr th {\n",
       "        vertical-align: top;\n",
       "    }\n",
       "\n",
       "    .dataframe thead th {\n",
       "        text-align: right;\n",
       "    }\n",
       "</style>\n",
       "<table border=\"1\" class=\"dataframe\">\n",
       "  <thead>\n",
       "    <tr style=\"text-align: right;\">\n",
       "      <th></th>\n",
       "      <th>Nível</th>\n",
       "      <th>Cód.</th>\n",
       "      <th>Grande Região, Unidade da Federação e Município</th>\n",
       "      <th>Ano</th>\n",
       "      <th>Código CNAE</th>\n",
       "      <th>Atividade</th>\n",
       "      <th>Unidades locais</th>\n",
       "    </tr>\n",
       "  </thead>\n",
       "  <tbody>\n",
       "    <tr>\n",
       "      <th>0</th>\n",
       "      <td>GR</td>\n",
       "      <td>1.0</td>\n",
       "      <td>Norte</td>\n",
       "      <td>2017.0</td>\n",
       "      <td>49</td>\n",
       "      <td>Transporte terrestre</td>\n",
       "      <td>5173</td>\n",
       "    </tr>\n",
       "    <tr>\n",
       "      <th>1</th>\n",
       "      <td>GR</td>\n",
       "      <td>1.0</td>\n",
       "      <td>Norte</td>\n",
       "      <td>2017.0</td>\n",
       "      <td>49.1</td>\n",
       "      <td>Transporte ferroviário e metroferroviário</td>\n",
       "      <td>7</td>\n",
       "    </tr>\n",
       "    <tr>\n",
       "      <th>2</th>\n",
       "      <td>GR</td>\n",
       "      <td>1.0</td>\n",
       "      <td>Norte</td>\n",
       "      <td>2017.0</td>\n",
       "      <td>49.11-6</td>\n",
       "      <td>Transporte ferroviário de carga</td>\n",
       "      <td>7</td>\n",
       "    </tr>\n",
       "    <tr>\n",
       "      <th>3</th>\n",
       "      <td>GR</td>\n",
       "      <td>1.0</td>\n",
       "      <td>Norte</td>\n",
       "      <td>2017.0</td>\n",
       "      <td>49.12-4</td>\n",
       "      <td>Transporte metroferroviário de passageiros</td>\n",
       "      <td>-</td>\n",
       "    </tr>\n",
       "    <tr>\n",
       "      <th>4</th>\n",
       "      <td>GR</td>\n",
       "      <td>1.0</td>\n",
       "      <td>Norte</td>\n",
       "      <td>2017.0</td>\n",
       "      <td>49.21-3</td>\n",
       "      <td>Transporte rodoviário coletivo de passageiros,...</td>\n",
       "      <td>395</td>\n",
       "    </tr>\n",
       "  </tbody>\n",
       "</table>\n",
       "</div>"
      ],
      "text/plain": [
       "  Nível  Cód. Grande Região, Unidade da Federação e Município     Ano  \\\n",
       "0    GR   1.0                                           Norte  2017.0   \n",
       "1    GR   1.0                                           Norte  2017.0   \n",
       "2    GR   1.0                                           Norte  2017.0   \n",
       "3    GR   1.0                                           Norte  2017.0   \n",
       "4    GR   1.0                                           Norte  2017.0   \n",
       "\n",
       "  Código CNAE                                          Atividade  \\\n",
       "0          49                               Transporte terrestre   \n",
       "1        49.1          Transporte ferroviário e metroferroviário   \n",
       "2     49.11-6                    Transporte ferroviário de carga   \n",
       "3     49.12-4         Transporte metroferroviário de passageiros   \n",
       "4     49.21-3  Transporte rodoviário coletivo de passageiros,...   \n",
       "\n",
       "  Unidades locais  \n",
       "0            5173  \n",
       "1               7  \n",
       "2               7  \n",
       "3               -  \n",
       "4             395  "
      ]
     },
     "execution_count": 8,
     "metadata": {},
     "output_type": "execute_result"
    }
   ],
   "source": [
    "df[['Nível', 'Cód.', 'Grande Região, Unidade da Federação e Município', 'Ano']] = df[['Nível', 'Cód.', 'Grande Região, Unidade da Federação e Município', 'Ano']].fillna(method='ffill')\n",
    "df.head()"
   ]
  },
  {
   "cell_type": "markdown",
   "metadata": {},
   "source": [
    "Isto garante que, quando reorganizarmos a tabela em diferentes modos poderemos indexar por nível, código, região ou outra variável."
   ]
  },
  {
   "cell_type": "markdown",
   "metadata": {},
   "source": [
    "Agora substituímos os dados faltantes na coluna `Unidades locais`, colocando `0` no lugar de `-`."
   ]
  },
  {
   "cell_type": "code",
   "execution_count": 9,
   "metadata": {},
   "outputs": [
    {
     "data": {
      "text/html": [
       "<div>\n",
       "<style scoped>\n",
       "    .dataframe tbody tr th:only-of-type {\n",
       "        vertical-align: middle;\n",
       "    }\n",
       "\n",
       "    .dataframe tbody tr th {\n",
       "        vertical-align: top;\n",
       "    }\n",
       "\n",
       "    .dataframe thead th {\n",
       "        text-align: right;\n",
       "    }\n",
       "</style>\n",
       "<table border=\"1\" class=\"dataframe\">\n",
       "  <thead>\n",
       "    <tr style=\"text-align: right;\">\n",
       "      <th></th>\n",
       "      <th>Nível</th>\n",
       "      <th>Cód.</th>\n",
       "      <th>Grande Região, Unidade da Federação e Município</th>\n",
       "      <th>Ano</th>\n",
       "      <th>Código CNAE</th>\n",
       "      <th>Atividade</th>\n",
       "      <th>Unidades locais</th>\n",
       "    </tr>\n",
       "  </thead>\n",
       "  <tbody>\n",
       "    <tr>\n",
       "      <th>0</th>\n",
       "      <td>GR</td>\n",
       "      <td>1.0</td>\n",
       "      <td>Norte</td>\n",
       "      <td>2017.0</td>\n",
       "      <td>49</td>\n",
       "      <td>Transporte terrestre</td>\n",
       "      <td>5173</td>\n",
       "    </tr>\n",
       "    <tr>\n",
       "      <th>1</th>\n",
       "      <td>GR</td>\n",
       "      <td>1.0</td>\n",
       "      <td>Norte</td>\n",
       "      <td>2017.0</td>\n",
       "      <td>49.1</td>\n",
       "      <td>Transporte ferroviário e metroferroviário</td>\n",
       "      <td>7</td>\n",
       "    </tr>\n",
       "    <tr>\n",
       "      <th>2</th>\n",
       "      <td>GR</td>\n",
       "      <td>1.0</td>\n",
       "      <td>Norte</td>\n",
       "      <td>2017.0</td>\n",
       "      <td>49.11-6</td>\n",
       "      <td>Transporte ferroviário de carga</td>\n",
       "      <td>7</td>\n",
       "    </tr>\n",
       "    <tr>\n",
       "      <th>3</th>\n",
       "      <td>GR</td>\n",
       "      <td>1.0</td>\n",
       "      <td>Norte</td>\n",
       "      <td>2017.0</td>\n",
       "      <td>49.12-4</td>\n",
       "      <td>Transporte metroferroviário de passageiros</td>\n",
       "      <td>0</td>\n",
       "    </tr>\n",
       "    <tr>\n",
       "      <th>4</th>\n",
       "      <td>GR</td>\n",
       "      <td>1.0</td>\n",
       "      <td>Norte</td>\n",
       "      <td>2017.0</td>\n",
       "      <td>49.21-3</td>\n",
       "      <td>Transporte rodoviário coletivo de passageiros,...</td>\n",
       "      <td>395</td>\n",
       "    </tr>\n",
       "  </tbody>\n",
       "</table>\n",
       "</div>"
      ],
      "text/plain": [
       "  Nível  Cód. Grande Região, Unidade da Federação e Município     Ano  \\\n",
       "0    GR   1.0                                           Norte  2017.0   \n",
       "1    GR   1.0                                           Norte  2017.0   \n",
       "2    GR   1.0                                           Norte  2017.0   \n",
       "3    GR   1.0                                           Norte  2017.0   \n",
       "4    GR   1.0                                           Norte  2017.0   \n",
       "\n",
       "  Código CNAE                                          Atividade  \\\n",
       "0          49                               Transporte terrestre   \n",
       "1        49.1          Transporte ferroviário e metroferroviário   \n",
       "2     49.11-6                    Transporte ferroviário de carga   \n",
       "3     49.12-4         Transporte metroferroviário de passageiros   \n",
       "4     49.21-3  Transporte rodoviário coletivo de passageiros,...   \n",
       "\n",
       "  Unidades locais  \n",
       "0            5173  \n",
       "1               7  \n",
       "2               7  \n",
       "3               0  \n",
       "4             395  "
      ]
     },
     "execution_count": 9,
     "metadata": {},
     "output_type": "execute_result"
    }
   ],
   "source": [
    "df[['Unidades locais']] = df[['Unidades locais']].replace(to_replace='-', value='0')\n",
    "df.head()"
   ]
  },
  {
   "cell_type": "markdown",
   "metadata": {},
   "source": [
    "Verificando que todos os dados faltantes foram preenchidos:"
   ]
  },
  {
   "cell_type": "code",
   "execution_count": 10,
   "metadata": {},
   "outputs": [
    {
     "data": {
      "text/plain": [
       "Nível                                              0\n",
       "Cód.                                               0\n",
       "Grande Região, Unidade da Federação e Município    0\n",
       "Ano                                                0\n",
       "Código CNAE                                        0\n",
       "Atividade                                          0\n",
       "Unidades locais                                    0\n",
       "dtype: int64"
      ]
     },
     "execution_count": 10,
     "metadata": {},
     "output_type": "execute_result"
    }
   ],
   "source": [
    "df.isna().sum()"
   ]
  },
  {
   "cell_type": "markdown",
   "metadata": {},
   "source": [
    "Mudamos os tipos de dados das colunas para finalizar o tratamento de dados:"
   ]
  },
  {
   "cell_type": "code",
   "execution_count": 11,
   "metadata": {},
   "outputs": [
    {
     "data": {
      "text/plain": [
       "Nível                                              category\n",
       "Cód.                                                  int32\n",
       "Grande Região, Unidade da Federação e Município    category\n",
       "Ano                                                   int32\n",
       "Código CNAE                                        category\n",
       "Atividade                                          category\n",
       "Unidades locais                                       int32\n",
       "dtype: object"
      ]
     },
     "execution_count": 11,
     "metadata": {},
     "output_type": "execute_result"
    }
   ],
   "source": [
    "df = df.astype({'Nível' : \"category\", 'Cód.' : int, 'Grande Região, Unidade da Federação e Município' : \"category\", 'Ano' : int, 'Código CNAE' : \"category\", 'Atividade' : \"category\", 'Unidades locais' : int})\n",
    "df.dtypes"
   ]
  },
  {
   "cell_type": "markdown",
   "metadata": {},
   "source": [
    "As colunas `Cód.`, `Ano` e `Unidades locais` foram alteradas para inteiro e as colunas `Nível`, `Grande Região, Unidade da Federação e Município`, `Código CNAE` e `Atividade` foram alteradas para `category`, que é um tipo especial de dado em pandas otimizado para categorias, ocupando menos memória e facilitando o uso."
   ]
  },
  {
   "cell_type": "markdown",
   "metadata": {},
   "source": [
    "Vamos criar também um dicionário fazendo uma correspondência entre as atividades e seus respectivos códigos CNAE, caso necessário."
   ]
  },
  {
   "cell_type": "code",
   "execution_count": 12,
   "metadata": {},
   "outputs": [],
   "source": [
    "# Selecionando os códigos distintos da CNAE\n",
    "codigos_cnae = df['Código CNAE'].unique()\n",
    "\n",
    "# Selecionando as atividades distintas da CNAE\n",
    "atividades_cnae = df['Atividade'].unique()\n",
    "\n",
    "# Criando o dicionário de correspondências\n",
    "dicio_cnae = {atividade : codigo for codigo, atividade in zip(codigos_cnae, atividades_cnae)}"
   ]
  },
  {
   "cell_type": "markdown",
   "metadata": {},
   "source": [
    "## Criação das tabelas regionais"
   ]
  },
  {
   "cell_type": "markdown",
   "metadata": {},
   "source": [
    "Agora criaremos três tabelas separadamente:\n",
    "- Uma tabela apenas para as grandes regiões, escolhendo regiões com códigos atendendo `Cód. > 0` e `Cód. < 10`, que correspondem apenas às macrorregiões (Centro-Oeste, Nordeste, Norte, Sudeste, Sul);\n",
    "- Uma tabela apenas para as unidades da federação, escolhendo regiões com códigos `Cód. > 10` e `Cód. < 100`;\n",
    "- Uma tabela apenas para os municípios, escolhendo regiões com códigos `Cód. > 100`."
   ]
  },
  {
   "cell_type": "code",
   "execution_count": 13,
   "metadata": {},
   "outputs": [
    {
     "data": {
      "text/html": [
       "<div>\n",
       "<style scoped>\n",
       "    .dataframe tbody tr th:only-of-type {\n",
       "        vertical-align: middle;\n",
       "    }\n",
       "\n",
       "    .dataframe tbody tr th {\n",
       "        vertical-align: top;\n",
       "    }\n",
       "\n",
       "    .dataframe thead th {\n",
       "        text-align: right;\n",
       "    }\n",
       "</style>\n",
       "<table border=\"1\" class=\"dataframe\">\n",
       "  <thead>\n",
       "    <tr style=\"text-align: right;\">\n",
       "      <th></th>\n",
       "      <th>Grande Região</th>\n",
       "      <th>Ano</th>\n",
       "      <th>Atividade</th>\n",
       "      <th>Unidades locais</th>\n",
       "    </tr>\n",
       "  </thead>\n",
       "  <tbody>\n",
       "    <tr>\n",
       "      <th>0</th>\n",
       "      <td>Norte</td>\n",
       "      <td>2017</td>\n",
       "      <td>Transporte terrestre</td>\n",
       "      <td>5173</td>\n",
       "    </tr>\n",
       "    <tr>\n",
       "      <th>1</th>\n",
       "      <td>Norte</td>\n",
       "      <td>2017</td>\n",
       "      <td>Transporte ferroviário e metroferroviário</td>\n",
       "      <td>7</td>\n",
       "    </tr>\n",
       "    <tr>\n",
       "      <th>2</th>\n",
       "      <td>Norte</td>\n",
       "      <td>2017</td>\n",
       "      <td>Transporte ferroviário de carga</td>\n",
       "      <td>7</td>\n",
       "    </tr>\n",
       "    <tr>\n",
       "      <th>3</th>\n",
       "      <td>Norte</td>\n",
       "      <td>2017</td>\n",
       "      <td>Transporte metroferroviário de passageiros</td>\n",
       "      <td>0</td>\n",
       "    </tr>\n",
       "    <tr>\n",
       "      <th>4</th>\n",
       "      <td>Norte</td>\n",
       "      <td>2017</td>\n",
       "      <td>Transporte rodoviário coletivo de passageiros,...</td>\n",
       "      <td>395</td>\n",
       "    </tr>\n",
       "  </tbody>\n",
       "</table>\n",
       "</div>"
      ],
      "text/plain": [
       "  Grande Região   Ano                                          Atividade  \\\n",
       "0         Norte  2017                               Transporte terrestre   \n",
       "1         Norte  2017          Transporte ferroviário e metroferroviário   \n",
       "2         Norte  2017                    Transporte ferroviário de carga   \n",
       "3         Norte  2017         Transporte metroferroviário de passageiros   \n",
       "4         Norte  2017  Transporte rodoviário coletivo de passageiros,...   \n",
       "\n",
       "   Unidades locais  \n",
       "0             5173  \n",
       "1                7  \n",
       "2                7  \n",
       "3                0  \n",
       "4              395  "
      ]
     },
     "execution_count": 13,
     "metadata": {},
     "output_type": "execute_result"
    }
   ],
   "source": [
    "# Construindo a tabela das grandes regiões\n",
    "grand_reg = df[(df['Cód.'] > 0) & (df['Cód.'] < 10)]\n",
    "\n",
    "# Renomeando as colunas\n",
    "grand_reg = grand_reg.rename(columns={'Grande Região, Unidade da Federação e Município' : 'Grande Região'})\n",
    "\n",
    "# Retirando colunas desnecessárias\n",
    "grand_reg = grand_reg.drop(columns=['Nível', 'Cód.', 'Código CNAE'])\n",
    "\n",
    "grand_reg.head()"
   ]
  },
  {
   "cell_type": "markdown",
   "metadata": {},
   "source": [
    "Aqui realizamos os seguintes procedimentos:\n",
    "1. Selecionamos as linhas na tabela original com códigos no intervalo especificado;\n",
    "2. Uma vez com as linhas selecionadas, renomeamos a coluna da região para `Grande Região`, uma vez que não possui mais unidades da federação e municípios;\n",
    "3. Retiramos as colunas `Nível`, `Cód.` e `Código CNAE` nessa tabela, pois é mais simples guiar-se pela atividade, além de termos o dicionário para descobrir os códigos, se necessário.\n",
    "\n",
    "Realizaremos os mesmos procedimentos nas tabelas de unidades da federação e de municípios."
   ]
  },
  {
   "cell_type": "code",
   "execution_count": 14,
   "metadata": {},
   "outputs": [
    {
     "data": {
      "text/html": [
       "<div>\n",
       "<style scoped>\n",
       "    .dataframe tbody tr th:only-of-type {\n",
       "        vertical-align: middle;\n",
       "    }\n",
       "\n",
       "    .dataframe tbody tr th {\n",
       "        vertical-align: top;\n",
       "    }\n",
       "\n",
       "    .dataframe thead th {\n",
       "        text-align: right;\n",
       "    }\n",
       "</style>\n",
       "<table border=\"1\" class=\"dataframe\">\n",
       "  <thead>\n",
       "    <tr style=\"text-align: right;\">\n",
       "      <th></th>\n",
       "      <th>Unidade da Federação</th>\n",
       "      <th>Ano</th>\n",
       "      <th>Atividade</th>\n",
       "      <th>Unidades locais</th>\n",
       "    </tr>\n",
       "  </thead>\n",
       "  <tbody>\n",
       "    <tr>\n",
       "      <th>0</th>\n",
       "      <td>Rondônia</td>\n",
       "      <td>2017</td>\n",
       "      <td>Transporte terrestre</td>\n",
       "      <td>1415</td>\n",
       "    </tr>\n",
       "    <tr>\n",
       "      <th>1</th>\n",
       "      <td>Rondônia</td>\n",
       "      <td>2017</td>\n",
       "      <td>Transporte ferroviário e metroferroviário</td>\n",
       "      <td>0</td>\n",
       "    </tr>\n",
       "    <tr>\n",
       "      <th>2</th>\n",
       "      <td>Rondônia</td>\n",
       "      <td>2017</td>\n",
       "      <td>Transporte ferroviário de carga</td>\n",
       "      <td>0</td>\n",
       "    </tr>\n",
       "    <tr>\n",
       "      <th>3</th>\n",
       "      <td>Rondônia</td>\n",
       "      <td>2017</td>\n",
       "      <td>Transporte metroferroviário de passageiros</td>\n",
       "      <td>0</td>\n",
       "    </tr>\n",
       "    <tr>\n",
       "      <th>4</th>\n",
       "      <td>Rondônia</td>\n",
       "      <td>2017</td>\n",
       "      <td>Transporte rodoviário coletivo de passageiros,...</td>\n",
       "      <td>44</td>\n",
       "    </tr>\n",
       "  </tbody>\n",
       "</table>\n",
       "</div>"
      ],
      "text/plain": [
       "  Unidade da Federação   Ano  \\\n",
       "0             Rondônia  2017   \n",
       "1             Rondônia  2017   \n",
       "2             Rondônia  2017   \n",
       "3             Rondônia  2017   \n",
       "4             Rondônia  2017   \n",
       "\n",
       "                                           Atividade  Unidades locais  \n",
       "0                               Transporte terrestre             1415  \n",
       "1          Transporte ferroviário e metroferroviário                0  \n",
       "2                    Transporte ferroviário de carga                0  \n",
       "3         Transporte metroferroviário de passageiros                0  \n",
       "4  Transporte rodoviário coletivo de passageiros,...               44  "
      ]
     },
     "execution_count": 14,
     "metadata": {},
     "output_type": "execute_result"
    }
   ],
   "source": [
    "# Construindo a tabela das unidades da federação\n",
    "unid_feds = df[(df['Cód.'] > 10) & (df['Cód.'] < 100)]\n",
    "\n",
    "# Renomeando as colunas\n",
    "unid_feds = unid_feds.rename(columns={'Grande Região, Unidade da Federação e Município' : 'Unidade da Federação'})\n",
    "\n",
    "# Reiniciando o índice\n",
    "unid_feds = unid_feds.reset_index(drop=True)\n",
    "\n",
    "# Retirando colunas desnecessárias\n",
    "unid_feds = unid_feds.drop(columns=['Nível', 'Cód.', 'Código CNAE'])\n",
    "unid_feds.head()"
   ]
  },
  {
   "cell_type": "code",
   "execution_count": 15,
   "metadata": {},
   "outputs": [
    {
     "data": {
      "text/html": [
       "<div>\n",
       "<style scoped>\n",
       "    .dataframe tbody tr th:only-of-type {\n",
       "        vertical-align: middle;\n",
       "    }\n",
       "\n",
       "    .dataframe tbody tr th {\n",
       "        vertical-align: top;\n",
       "    }\n",
       "\n",
       "    .dataframe thead th {\n",
       "        text-align: right;\n",
       "    }\n",
       "</style>\n",
       "<table border=\"1\" class=\"dataframe\">\n",
       "  <thead>\n",
       "    <tr style=\"text-align: right;\">\n",
       "      <th></th>\n",
       "      <th>Município</th>\n",
       "      <th>Ano</th>\n",
       "      <th>Atividade</th>\n",
       "      <th>Unidades locais</th>\n",
       "    </tr>\n",
       "  </thead>\n",
       "  <tbody>\n",
       "    <tr>\n",
       "      <th>0</th>\n",
       "      <td>Alta Floresta D'Oeste (RO)</td>\n",
       "      <td>2017</td>\n",
       "      <td>Transporte terrestre</td>\n",
       "      <td>28</td>\n",
       "    </tr>\n",
       "    <tr>\n",
       "      <th>1</th>\n",
       "      <td>Alta Floresta D'Oeste (RO)</td>\n",
       "      <td>2017</td>\n",
       "      <td>Transporte ferroviário e metroferroviário</td>\n",
       "      <td>0</td>\n",
       "    </tr>\n",
       "    <tr>\n",
       "      <th>2</th>\n",
       "      <td>Alta Floresta D'Oeste (RO)</td>\n",
       "      <td>2017</td>\n",
       "      <td>Transporte ferroviário de carga</td>\n",
       "      <td>0</td>\n",
       "    </tr>\n",
       "    <tr>\n",
       "      <th>3</th>\n",
       "      <td>Alta Floresta D'Oeste (RO)</td>\n",
       "      <td>2017</td>\n",
       "      <td>Transporte metroferroviário de passageiros</td>\n",
       "      <td>0</td>\n",
       "    </tr>\n",
       "    <tr>\n",
       "      <th>4</th>\n",
       "      <td>Alta Floresta D'Oeste (RO)</td>\n",
       "      <td>2017</td>\n",
       "      <td>Transporte rodoviário coletivo de passageiros,...</td>\n",
       "      <td>3</td>\n",
       "    </tr>\n",
       "  </tbody>\n",
       "</table>\n",
       "</div>"
      ],
      "text/plain": [
       "                    Município   Ano  \\\n",
       "0  Alta Floresta D'Oeste (RO)  2017   \n",
       "1  Alta Floresta D'Oeste (RO)  2017   \n",
       "2  Alta Floresta D'Oeste (RO)  2017   \n",
       "3  Alta Floresta D'Oeste (RO)  2017   \n",
       "4  Alta Floresta D'Oeste (RO)  2017   \n",
       "\n",
       "                                           Atividade  Unidades locais  \n",
       "0                               Transporte terrestre               28  \n",
       "1          Transporte ferroviário e metroferroviário                0  \n",
       "2                    Transporte ferroviário de carga                0  \n",
       "3         Transporte metroferroviário de passageiros                0  \n",
       "4  Transporte rodoviário coletivo de passageiros,...                3  "
      ]
     },
     "execution_count": 15,
     "metadata": {},
     "output_type": "execute_result"
    }
   ],
   "source": [
    "# Construindo a tabela dos municípios\n",
    "municipios = df[df['Cód.'] > 100]\n",
    "\n",
    "# Renomeando as colunas\n",
    "municipios = municipios.rename(columns={'Grande Região, Unidade da Federação e Município' : 'Município'})\n",
    "\n",
    "# Reiniciando o índice\n",
    "municipios = municipios.reset_index(drop=True)\n",
    "\n",
    "# Retirando colunas desnecessárias\n",
    "municipios = municipios.drop(columns=['Nível', 'Cód.', 'Código CNAE'])\n",
    "municipios.head()"
   ]
  },
  {
   "cell_type": "markdown",
   "metadata": {},
   "source": [
    "# Análises"
   ]
  },
  {
   "cell_type": "markdown",
   "metadata": {},
   "source": [
    "## Observando as 5 atividades com maior número de unidades locais"
   ]
  },
  {
   "cell_type": "markdown",
   "metadata": {},
   "source": [
    "### Nível de grande região"
   ]
  },
  {
   "cell_type": "code",
   "execution_count": 16,
   "metadata": {},
   "outputs": [],
   "source": [
    "# Função auxiliar\n",
    "# Retorna uma tabela com as 5 atividades de maior número de unidades\n",
    "# em ordem crescente, para a tabela escolhida e ano escolhido\n",
    "def top_5_unidades(tabela=None, ano=None, tipo=0):\n",
    "    \"\"\"\n",
    "    Mostra os cinco maiores valores da tabela selecionada no ano escolhido\n",
    "    \"\"\"\n",
    "    if tipo==0:\n",
    "        return tabela[tabela['Ano'] == ano].sort_values(by='Unidades locais', ascending=False).head(5)\n",
    "    elif tipo==1:\n",
    "        return tabela[tabela['Ano'] == ano].sort_values(by='Unidades locais', ascending=True).tail(5)"
   ]
  },
  {
   "cell_type": "code",
   "execution_count": 17,
   "metadata": {},
   "outputs": [],
   "source": [
    "# Função auxiliar\n",
    "# Retorna uma tabela pivô com os dados indexados\n",
    "# para um ano escolhido\n",
    "#\n",
    "# Os índices são atividade e as colunas a região\n",
    "# Os valores são as unidades locais\n",
    "\n",
    "def tabela_pivo(tabela=None, regiao=None):\n",
    "    \"\"\"\n",
    "    Gera uma tabela pivô com valores indexados.\n",
    "    \"\"\"\n",
    "    return tabela.pivot(index='Atividade', columns=regiao, values='Unidades locais')"
   ]
  },
  {
   "cell_type": "code",
   "execution_count": 18,
   "metadata": {},
   "outputs": [],
   "source": [
    "# Função auxiliar\n",
    "# Constrói o gráfico de barras horizontais das top 5 atividades\n",
    "# separando pelas regiões pelas cores, com valores em ordem crescente\n",
    "\n",
    "def plotar_atividades(tabela=None, ano=None, regiao=None):\n",
    "    \"\"\"\n",
    "    Desenha um gráfico de barras horizontais com as informações\n",
    "    das top 5 atividades.\n",
    "    \"\"\"\n",
    "    top_5 = top_5_unidades(tabela=tabela, ano=ano, tipo=1)\n",
    "    \n",
    "    top_pivo = tabela_pivo(tabela=top_5, regiao=regiao)\n",
    "\n",
    "    top_pivo.plot(kind='barh', stacked=False)\n",
    "\n",
    "    plt.xlabel('Número de unidades locais')\n",
    "    plt.ylabel('Atividade')\n",
    "    plt.title(f'Top 5 atividades no ano {ano} por unidades locais, separadas por {regiao}')\n",
    "    plt.grid(visible=True)\n",
    "    \n",
    "    plt.show()"
   ]
  },
  {
   "cell_type": "markdown",
   "metadata": {},
   "source": [
    "#### Ano de 2021"
   ]
  },
  {
   "cell_type": "code",
   "execution_count": 19,
   "metadata": {},
   "outputs": [
    {
     "data": {
      "text/html": [
       "<div>\n",
       "<style scoped>\n",
       "    .dataframe tbody tr th:only-of-type {\n",
       "        vertical-align: middle;\n",
       "    }\n",
       "\n",
       "    .dataframe tbody tr th {\n",
       "        vertical-align: top;\n",
       "    }\n",
       "\n",
       "    .dataframe thead th {\n",
       "        text-align: right;\n",
       "    }\n",
       "</style>\n",
       "<table border=\"1\" class=\"dataframe\">\n",
       "  <thead>\n",
       "    <tr style=\"text-align: right;\">\n",
       "      <th></th>\n",
       "      <th>Grande Região</th>\n",
       "      <th>Ano</th>\n",
       "      <th>Atividade</th>\n",
       "      <th>Unidades locais</th>\n",
       "    </tr>\n",
       "  </thead>\n",
       "  <tbody>\n",
       "    <tr>\n",
       "      <th>799</th>\n",
       "      <td>Sudeste</td>\n",
       "      <td>2021</td>\n",
       "      <td>Restaurantes e outros estabelecimentos de serv...</td>\n",
       "      <td>125304</td>\n",
       "    </tr>\n",
       "    <tr>\n",
       "      <th>770</th>\n",
       "      <td>Sudeste</td>\n",
       "      <td>2021</td>\n",
       "      <td>Transporte terrestre</td>\n",
       "      <td>96180</td>\n",
       "    </tr>\n",
       "    <tr>\n",
       "      <th>779</th>\n",
       "      <td>Sudeste</td>\n",
       "      <td>2021</td>\n",
       "      <td>Transporte rodoviário de carga</td>\n",
       "      <td>75231</td>\n",
       "    </tr>\n",
       "    <tr>\n",
       "      <th>1045</th>\n",
       "      <td>Sul</td>\n",
       "      <td>2021</td>\n",
       "      <td>Transporte terrestre</td>\n",
       "      <td>66617</td>\n",
       "    </tr>\n",
       "    <tr>\n",
       "      <th>1054</th>\n",
       "      <td>Sul</td>\n",
       "      <td>2021</td>\n",
       "      <td>Transporte rodoviário de carga</td>\n",
       "      <td>55176</td>\n",
       "    </tr>\n",
       "  </tbody>\n",
       "</table>\n",
       "</div>"
      ],
      "text/plain": [
       "     Grande Região   Ano                                          Atividade  \\\n",
       "799        Sudeste  2021  Restaurantes e outros estabelecimentos de serv...   \n",
       "770        Sudeste  2021                               Transporte terrestre   \n",
       "779        Sudeste  2021                     Transporte rodoviário de carga   \n",
       "1045           Sul  2021                               Transporte terrestre   \n",
       "1054           Sul  2021                     Transporte rodoviário de carga   \n",
       "\n",
       "      Unidades locais  \n",
       "799            125304  \n",
       "770             96180  \n",
       "779             75231  \n",
       "1045            66617  \n",
       "1054            55176  "
      ]
     },
     "execution_count": 19,
     "metadata": {},
     "output_type": "execute_result"
    }
   ],
   "source": [
    "top_5_2021 = top_5_unidades(tabela=grand_reg, ano=2021)\n",
    "top_5_2021"
   ]
  },
  {
   "cell_type": "markdown",
   "metadata": {},
   "source": [
    "Na tabela acima observamos que a grande região do Sudeste possui as 3 maiores atividades em quantidade de unidades locais no ano de 2021, nas categorias `Restaurantes`, `Transporte terrestre` e `Transporte rodoviário de carga`. A grande região do Sul aparece na sequência nas atividades de transporte."
   ]
  },
  {
   "cell_type": "code",
   "execution_count": 20,
   "metadata": {},
   "outputs": [
    {
     "data": {
      "text/html": [
       "<div>\n",
       "<style scoped>\n",
       "    .dataframe tbody tr th:only-of-type {\n",
       "        vertical-align: middle;\n",
       "    }\n",
       "\n",
       "    .dataframe tbody tr th {\n",
       "        vertical-align: top;\n",
       "    }\n",
       "\n",
       "    .dataframe thead th {\n",
       "        text-align: right;\n",
       "    }\n",
       "</style>\n",
       "<table border=\"1\" class=\"dataframe\">\n",
       "  <thead>\n",
       "    <tr style=\"text-align: right;\">\n",
       "      <th>Grande Região</th>\n",
       "      <th>Sudeste</th>\n",
       "      <th>Sul</th>\n",
       "    </tr>\n",
       "    <tr>\n",
       "      <th>Atividade</th>\n",
       "      <th></th>\n",
       "      <th></th>\n",
       "    </tr>\n",
       "  </thead>\n",
       "  <tbody>\n",
       "    <tr>\n",
       "      <th>Restaurantes e outros estabelecimentos de serviços de alimentação e bebidas</th>\n",
       "      <td>125304.0</td>\n",
       "      <td>NaN</td>\n",
       "    </tr>\n",
       "    <tr>\n",
       "      <th>Transporte terrestre</th>\n",
       "      <td>96180.0</td>\n",
       "      <td>66617.0</td>\n",
       "    </tr>\n",
       "    <tr>\n",
       "      <th>Transporte rodoviário de carga</th>\n",
       "      <td>75231.0</td>\n",
       "      <td>55176.0</td>\n",
       "    </tr>\n",
       "  </tbody>\n",
       "</table>\n",
       "</div>"
      ],
      "text/plain": [
       "Grande Região                                        Sudeste      Sul\n",
       "Atividade                                                            \n",
       "Restaurantes e outros estabelecimentos de servi...  125304.0      NaN\n",
       "Transporte terrestre                                 96180.0  66617.0\n",
       "Transporte rodoviário de carga                       75231.0  55176.0"
      ]
     },
     "execution_count": 20,
     "metadata": {},
     "output_type": "execute_result"
    }
   ],
   "source": [
    "top_5_2021_pivo = tabela_pivo(tabela=top_5_2021, regiao='Grande Região')\n",
    "top_5_2021_pivo"
   ]
  },
  {
   "cell_type": "markdown",
   "metadata": {},
   "source": [
    "O formato acima permite uma comparação direta entre as quantidades do Sudeste e Sul nas atividades mencionadas, tendo uma diferença de aproximadamente 30 mil unidades de transporte terrestre e 20 mil unidades de transporte rodoviário de carga."
   ]
  },
  {
   "cell_type": "code",
   "execution_count": 21,
   "metadata": {},
   "outputs": [
    {
     "data": {
      "image/png": "[encoded data removed]",
      "text/plain": [
       "<Figure size 432x288 with 1 Axes>"
      ]
     },
     "metadata": {
      "needs_background": "light"
     },
     "output_type": "display_data"
    }
   ],
   "source": [
    "plotar_atividades(tabela=grand_reg, ano=2021, regiao='Grande Região')"
   ]
  },
  {
   "cell_type": "markdown",
   "metadata": {},
   "source": [
    "A imagem acima mostra as informações da tabela visualmente.\n",
    "\n",
    "Uma tendência semelhante foi encontrada ao verificar os anos de 2017 até 2020."
   ]
  },
  {
   "cell_type": "markdown",
   "metadata": {},
   "source": [
    "### Nível de unidades da federação"
   ]
  },
  {
   "cell_type": "markdown",
   "metadata": {},
   "source": [
    "Agora observamos a tabela de top 5 atividades por unidades da federação. Observa-se que São Paulo lidera o top 3 nas atividades `Restaurantes`, `Transporte terrestre`e `Transporte rodoviário de carga`. Isso é consistente com as observações por grande região, em que o Sudeste foi responsável pelas top 3 atividades nestas atividades."
   ]
  },
  {
   "cell_type": "code",
   "execution_count": 22,
   "metadata": {},
   "outputs": [
    {
     "data": {
      "text/html": [
       "<div>\n",
       "<style scoped>\n",
       "    .dataframe tbody tr th:only-of-type {\n",
       "        vertical-align: middle;\n",
       "    }\n",
       "\n",
       "    .dataframe tbody tr th {\n",
       "        vertical-align: top;\n",
       "    }\n",
       "\n",
       "    .dataframe thead th {\n",
       "        text-align: right;\n",
       "    }\n",
       "</style>\n",
       "<table border=\"1\" class=\"dataframe\">\n",
       "  <thead>\n",
       "    <tr style=\"text-align: right;\">\n",
       "      <th></th>\n",
       "      <th>Unidade da Federação</th>\n",
       "      <th>Ano</th>\n",
       "      <th>Atividade</th>\n",
       "      <th>Unidades locais</th>\n",
       "    </tr>\n",
       "  </thead>\n",
       "  <tbody>\n",
       "    <tr>\n",
       "      <th>5474</th>\n",
       "      <td>São Paulo</td>\n",
       "      <td>2021</td>\n",
       "      <td>Restaurantes e outros estabelecimentos de serv...</td>\n",
       "      <td>74033</td>\n",
       "    </tr>\n",
       "    <tr>\n",
       "      <th>5445</th>\n",
       "      <td>São Paulo</td>\n",
       "      <td>2021</td>\n",
       "      <td>Transporte terrestre</td>\n",
       "      <td>58557</td>\n",
       "    </tr>\n",
       "    <tr>\n",
       "      <th>5454</th>\n",
       "      <td>São Paulo</td>\n",
       "      <td>2021</td>\n",
       "      <td>Transporte rodoviário de carga</td>\n",
       "      <td>46938</td>\n",
       "    </tr>\n",
       "    <tr>\n",
       "      <th>5720</th>\n",
       "      <td>Paraná</td>\n",
       "      <td>2021</td>\n",
       "      <td>Transporte terrestre</td>\n",
       "      <td>25910</td>\n",
       "    </tr>\n",
       "    <tr>\n",
       "      <th>4620</th>\n",
       "      <td>Minas Gerais</td>\n",
       "      <td>2021</td>\n",
       "      <td>Transporte terrestre</td>\n",
       "      <td>25592</td>\n",
       "    </tr>\n",
       "  </tbody>\n",
       "</table>\n",
       "</div>"
      ],
      "text/plain": [
       "     Unidade da Federação   Ano  \\\n",
       "5474            São Paulo  2021   \n",
       "5445            São Paulo  2021   \n",
       "5454            São Paulo  2021   \n",
       "5720               Paraná  2021   \n",
       "4620         Minas Gerais  2021   \n",
       "\n",
       "                                              Atividade  Unidades locais  \n",
       "5474  Restaurantes e outros estabelecimentos de serv...            74033  \n",
       "5445                               Transporte terrestre            58557  \n",
       "5454                     Transporte rodoviário de carga            46938  \n",
       "5720                               Transporte terrestre            25910  \n",
       "4620                               Transporte terrestre            25592  "
      ]
     },
     "execution_count": 22,
     "metadata": {},
     "output_type": "execute_result"
    }
   ],
   "source": [
    "top_5_unids_2021 = top_5_unidades(tabela=unid_feds, ano=2021)\n",
    "top_5_unids_2021"
   ]
  },
  {
   "cell_type": "markdown",
   "metadata": {},
   "source": [
    "Aqui visualizamos a mesma tabela no formato pivô. Observamos mais facilmente que as diferenças entre Paraná e Minas Gerais são pequenas, enquanto que São Paulo possui mais que o dobro de qualquer uma das unidades citadas no aspecto `Transporte terrestre`, e permanece isolada nas outras duas atividades."
   ]
  },
  {
   "cell_type": "code",
   "execution_count": 23,
   "metadata": {},
   "outputs": [
    {
     "data": {
      "text/html": [
       "<div>\n",
       "<style scoped>\n",
       "    .dataframe tbody tr th:only-of-type {\n",
       "        vertical-align: middle;\n",
       "    }\n",
       "\n",
       "    .dataframe tbody tr th {\n",
       "        vertical-align: top;\n",
       "    }\n",
       "\n",
       "    .dataframe thead th {\n",
       "        text-align: right;\n",
       "    }\n",
       "</style>\n",
       "<table border=\"1\" class=\"dataframe\">\n",
       "  <thead>\n",
       "    <tr style=\"text-align: right;\">\n",
       "      <th>Unidade da Federação</th>\n",
       "      <th>São Paulo</th>\n",
       "      <th>Paraná</th>\n",
       "      <th>Minas Gerais</th>\n",
       "    </tr>\n",
       "    <tr>\n",
       "      <th>Atividade</th>\n",
       "      <th></th>\n",
       "      <th></th>\n",
       "      <th></th>\n",
       "    </tr>\n",
       "  </thead>\n",
       "  <tbody>\n",
       "    <tr>\n",
       "      <th>Restaurantes e outros estabelecimentos de serviços de alimentação e bebidas</th>\n",
       "      <td>74033.0</td>\n",
       "      <td>NaN</td>\n",
       "      <td>NaN</td>\n",
       "    </tr>\n",
       "    <tr>\n",
       "      <th>Transporte terrestre</th>\n",
       "      <td>58557.0</td>\n",
       "      <td>25910.0</td>\n",
       "      <td>25592.0</td>\n",
       "    </tr>\n",
       "    <tr>\n",
       "      <th>Transporte rodoviário de carga</th>\n",
       "      <td>46938.0</td>\n",
       "      <td>NaN</td>\n",
       "      <td>NaN</td>\n",
       "    </tr>\n",
       "  </tbody>\n",
       "</table>\n",
       "</div>"
      ],
      "text/plain": [
       "Unidade da Federação                                São Paulo   Paraná  \\\n",
       "Atividade                                                                \n",
       "Restaurantes e outros estabelecimentos de servi...    74033.0      NaN   \n",
       "Transporte terrestre                                  58557.0  25910.0   \n",
       "Transporte rodoviário de carga                        46938.0      NaN   \n",
       "\n",
       "Unidade da Federação                                Minas Gerais  \n",
       "Atividade                                                         \n",
       "Restaurantes e outros estabelecimentos de servi...           NaN  \n",
       "Transporte terrestre                                     25592.0  \n",
       "Transporte rodoviário de carga                               NaN  "
      ]
     },
     "execution_count": 23,
     "metadata": {},
     "output_type": "execute_result"
    }
   ],
   "source": [
    "top_5_unids_pivo = tabela_pivo(tabela=top_5_unids_2021, regiao='Unidade da Federação')\n",
    "top_5_unids_pivo"
   ]
  },
  {
   "cell_type": "markdown",
   "metadata": {},
   "source": [
    "Abaixo o gráfico descrevendo essas informações graficamente."
   ]
  },
  {
   "cell_type": "code",
   "execution_count": 24,
   "metadata": {},
   "outputs": [
    {
     "data": {
      "image/png": "[encoded data removed]",
      "text/plain": [
       "<Figure size 432x288 with 1 Axes>"
      ]
     },
     "metadata": {
      "needs_background": "light"
     },
     "output_type": "display_data"
    }
   ],
   "source": [
    "plotar_atividades(tabela=unid_feds, ano=2021, regiao='Unidade da Federação')"
   ]
  },
  {
   "cell_type": "markdown",
   "metadata": {},
   "source": [
    "É interessante notar que esse padrão não foi repetido nos anos anteriores. Para mostrar isso, criamos uma lista com tabelas pivôs dos outros anos."
   ]
  },
  {
   "cell_type": "code",
   "execution_count": 25,
   "metadata": {},
   "outputs": [],
   "source": [
    "# Inicializar lista para armazenar as tabelas\n",
    "top_5_unids_anos = []\n",
    "\n",
    "# Lista de anos\n",
    "anos = [2017, 2018, 2019, 2020]\n",
    "\n",
    "# Laço para criar a tabela por ano\n",
    "for ano in anos:\n",
    "    top_5 = top_5_unidades(tabela=unid_feds, ano=ano)\n",
    "    top_5_unids_anos.append(tabela_pivo(tabela=top_5, regiao='Unidade da Federação'))"
   ]
  },
  {
   "cell_type": "markdown",
   "metadata": {},
   "source": [
    "Abaixo observamos a tabela referente ao ano de 2019, que é semelhante às tabelas de 2017 e 2018. Nela podemos ver que `Minas Gerais` lidera o topo juntamente com `São Paulo`, ficando responsável pelas atividades de `Restaurantes` e `Transporte Terrestre`."
   ]
  },
  {
   "cell_type": "code",
   "execution_count": 26,
   "metadata": {},
   "outputs": [
    {
     "data": {
      "text/html": [
       "<div>\n",
       "<style scoped>\n",
       "    .dataframe tbody tr th:only-of-type {\n",
       "        vertical-align: middle;\n",
       "    }\n",
       "\n",
       "    .dataframe tbody tr th {\n",
       "        vertical-align: top;\n",
       "    }\n",
       "\n",
       "    .dataframe thead th {\n",
       "        text-align: right;\n",
       "    }\n",
       "</style>\n",
       "<table border=\"1\" class=\"dataframe\">\n",
       "  <thead>\n",
       "    <tr style=\"text-align: right;\">\n",
       "      <th>Unidade da Federação</th>\n",
       "      <th>São Paulo</th>\n",
       "      <th>Minas Gerais</th>\n",
       "    </tr>\n",
       "    <tr>\n",
       "      <th>Atividade</th>\n",
       "      <th></th>\n",
       "      <th></th>\n",
       "    </tr>\n",
       "  </thead>\n",
       "  <tbody>\n",
       "    <tr>\n",
       "      <th>Restaurantes e outros estabelecimentos de serviços de alimentação e bebidas</th>\n",
       "      <td>79379.0</td>\n",
       "      <td>26527.0</td>\n",
       "    </tr>\n",
       "    <tr>\n",
       "      <th>Transporte terrestre</th>\n",
       "      <td>57114.0</td>\n",
       "      <td>24788.0</td>\n",
       "    </tr>\n",
       "    <tr>\n",
       "      <th>Transporte rodoviário de carga</th>\n",
       "      <td>44985.0</td>\n",
       "      <td>NaN</td>\n",
       "    </tr>\n",
       "  </tbody>\n",
       "</table>\n",
       "</div>"
      ],
      "text/plain": [
       "Unidade da Federação                                São Paulo  Minas Gerais\n",
       "Atividade                                                                  \n",
       "Restaurantes e outros estabelecimentos de servi...    79379.0       26527.0\n",
       "Transporte terrestre                                  57114.0       24788.0\n",
       "Transporte rodoviário de carga                        44985.0           NaN"
      ]
     },
     "execution_count": 26,
     "metadata": {},
     "output_type": "execute_result"
    }
   ],
   "source": [
    "top_5_unids_anos[2]"
   ]
  },
  {
   "cell_type": "markdown",
   "metadata": {},
   "source": [
    "Entretanto, no ano de `2020` a unidade do `Paraná` desponta para `Transporte terrestre` e `Minas Gerais` perde o posto, passando a ocupar apenas no caso de `Restaurantes`."
   ]
  },
  {
   "cell_type": "code",
   "execution_count": 27,
   "metadata": {},
   "outputs": [
    {
     "data": {
      "text/html": [
       "<div>\n",
       "<style scoped>\n",
       "    .dataframe tbody tr th:only-of-type {\n",
       "        vertical-align: middle;\n",
       "    }\n",
       "\n",
       "    .dataframe tbody tr th {\n",
       "        vertical-align: top;\n",
       "    }\n",
       "\n",
       "    .dataframe thead th {\n",
       "        text-align: right;\n",
       "    }\n",
       "</style>\n",
       "<table border=\"1\" class=\"dataframe\">\n",
       "  <thead>\n",
       "    <tr style=\"text-align: right;\">\n",
       "      <th>Unidade da Federação</th>\n",
       "      <th>São Paulo</th>\n",
       "      <th>Paraná</th>\n",
       "      <th>Minas Gerais</th>\n",
       "    </tr>\n",
       "    <tr>\n",
       "      <th>Atividade</th>\n",
       "      <th></th>\n",
       "      <th></th>\n",
       "      <th></th>\n",
       "    </tr>\n",
       "  </thead>\n",
       "  <tbody>\n",
       "    <tr>\n",
       "      <th>Restaurantes e outros estabelecimentos de serviços de alimentação e bebidas</th>\n",
       "      <td>75960.0</td>\n",
       "      <td>NaN</td>\n",
       "      <td>24761.0</td>\n",
       "    </tr>\n",
       "    <tr>\n",
       "      <th>Transporte terrestre</th>\n",
       "      <td>57496.0</td>\n",
       "      <td>25131.0</td>\n",
       "      <td>NaN</td>\n",
       "    </tr>\n",
       "    <tr>\n",
       "      <th>Transporte rodoviário de carga</th>\n",
       "      <td>45887.0</td>\n",
       "      <td>NaN</td>\n",
       "      <td>NaN</td>\n",
       "    </tr>\n",
       "  </tbody>\n",
       "</table>\n",
       "</div>"
      ],
      "text/plain": [
       "Unidade da Federação                                São Paulo   Paraná  \\\n",
       "Atividade                                                                \n",
       "Restaurantes e outros estabelecimentos de servi...    75960.0      NaN   \n",
       "Transporte terrestre                                  57496.0  25131.0   \n",
       "Transporte rodoviário de carga                        45887.0      NaN   \n",
       "\n",
       "Unidade da Federação                                Minas Gerais  \n",
       "Atividade                                                         \n",
       "Restaurantes e outros estabelecimentos de servi...       24761.0  \n",
       "Transporte terrestre                                         NaN  \n",
       "Transporte rodoviário de carga                               NaN  "
      ]
     },
     "execution_count": 27,
     "metadata": {},
     "output_type": "execute_result"
    }
   ],
   "source": [
    "top_5_unids_anos[3]"
   ]
  },
  {
   "cell_type": "markdown",
   "metadata": {},
   "source": [
    "Algumas hipóteses podem ser levantadas:\n",
    "- Como 2020 foi o ano da pandemia de COVID-19, muitas pessoas fizeram compras no exterior através de aplicativos, passando por Curitiba no estado do Paraná, para entrega no restante do país. Isso pode ter elevado a quantidade de unidades de `Transporte terrestre` significativamente no ano de 2020;\n",
    "- A queda de `Minas Gerais` no posto de `Restaurantes` em 2021 pode ser hipotetizada como resultado da pandemia em 2020, pois foi um ramo de atividade fortemente afetado pela pandemia."
   ]
  },
  {
   "cell_type": "markdown",
   "metadata": {},
   "source": [
    "### Nível de municípios"
   ]
  },
  {
   "cell_type": "markdown",
   "metadata": {},
   "source": [
    "No nível municipal de análise, observamos que os dados formam uma imagem diferente. A tabela abaixo dos top 5 municípios com mais unidades locais por atividade mostra que os municípios do `Rio de Janeiro`, `Belo Horizonte`, `Fortaleza` e `Salvador` ocupam os postos, ocupados principalmente na atividade de `Restaurantes`."
   ]
  },
  {
   "cell_type": "code",
   "execution_count": 28,
   "metadata": {},
   "outputs": [
    {
     "data": {
      "text/html": [
       "<div>\n",
       "<style scoped>\n",
       "    .dataframe tbody tr th:only-of-type {\n",
       "        vertical-align: middle;\n",
       "    }\n",
       "\n",
       "    .dataframe tbody tr th {\n",
       "        vertical-align: top;\n",
       "    }\n",
       "\n",
       "    .dataframe thead th {\n",
       "        text-align: right;\n",
       "    }\n",
       "</style>\n",
       "<table border=\"1\" class=\"dataframe\">\n",
       "  <thead>\n",
       "    <tr style=\"text-align: right;\">\n",
       "      <th></th>\n",
       "      <th>Município</th>\n",
       "      <th>Ano</th>\n",
       "      <th>Atividade</th>\n",
       "      <th>Unidades locais</th>\n",
       "    </tr>\n",
       "  </thead>\n",
       "  <tbody>\n",
       "    <tr>\n",
       "      <th>891799</th>\n",
       "      <td>Rio de Janeiro (RJ)</td>\n",
       "      <td>2021</td>\n",
       "      <td>Restaurantes e outros estabelecimentos de serv...</td>\n",
       "      <td>10692</td>\n",
       "    </tr>\n",
       "    <tr>\n",
       "      <th>635224</th>\n",
       "      <td>Belo Horizonte (MG)</td>\n",
       "      <td>2021</td>\n",
       "      <td>Restaurantes e outros estabelecimentos de serv...</td>\n",
       "      <td>5343</td>\n",
       "    </tr>\n",
       "    <tr>\n",
       "      <th>261224</th>\n",
       "      <td>Fortaleza (CE)</td>\n",
       "      <td>2021</td>\n",
       "      <td>Restaurantes e outros estabelecimentos de serv...</td>\n",
       "      <td>3139</td>\n",
       "    </tr>\n",
       "    <tr>\n",
       "      <th>891770</th>\n",
       "      <td>Rio de Janeiro (RJ)</td>\n",
       "      <td>2021</td>\n",
       "      <td>Transporte terrestre</td>\n",
       "      <td>2984</td>\n",
       "    </tr>\n",
       "    <tr>\n",
       "      <th>594799</th>\n",
       "      <td>Salvador (BA)</td>\n",
       "      <td>2021</td>\n",
       "      <td>Restaurantes e outros estabelecimentos de serv...</td>\n",
       "      <td>2936</td>\n",
       "    </tr>\n",
       "  </tbody>\n",
       "</table>\n",
       "</div>"
      ],
      "text/plain": [
       "                  Município   Ano  \\\n",
       "891799  Rio de Janeiro (RJ)  2021   \n",
       "635224  Belo Horizonte (MG)  2021   \n",
       "261224       Fortaleza (CE)  2021   \n",
       "891770  Rio de Janeiro (RJ)  2021   \n",
       "594799        Salvador (BA)  2021   \n",
       "\n",
       "                                                Atividade  Unidades locais  \n",
       "891799  Restaurantes e outros estabelecimentos de serv...            10692  \n",
       "635224  Restaurantes e outros estabelecimentos de serv...             5343  \n",
       "261224  Restaurantes e outros estabelecimentos de serv...             3139  \n",
       "891770                               Transporte terrestre             2984  \n",
       "594799  Restaurantes e outros estabelecimentos de serv...             2936  "
      ]
     },
     "execution_count": 28,
     "metadata": {},
     "output_type": "execute_result"
    }
   ],
   "source": [
    "top_5_munic_2021 = top_5_unidades(tabela=municipios, ano=2021)\n",
    "top_5_munic_2021"
   ]
  },
  {
   "cell_type": "markdown",
   "metadata": {},
   "source": [
    "Mostrando a tabela acima na forma de pivô facilita nossa análise:"
   ]
  },
  {
   "cell_type": "code",
   "execution_count": 29,
   "metadata": {},
   "outputs": [
    {
     "data": {
      "text/html": [
       "<div>\n",
       "<style scoped>\n",
       "    .dataframe tbody tr th:only-of-type {\n",
       "        vertical-align: middle;\n",
       "    }\n",
       "\n",
       "    .dataframe tbody tr th {\n",
       "        vertical-align: top;\n",
       "    }\n",
       "\n",
       "    .dataframe thead th {\n",
       "        text-align: right;\n",
       "    }\n",
       "</style>\n",
       "<table border=\"1\" class=\"dataframe\">\n",
       "  <thead>\n",
       "    <tr style=\"text-align: right;\">\n",
       "      <th>Município</th>\n",
       "      <th>Rio de Janeiro (RJ)</th>\n",
       "      <th>Belo Horizonte (MG)</th>\n",
       "      <th>Fortaleza (CE)</th>\n",
       "      <th>Salvador (BA)</th>\n",
       "    </tr>\n",
       "    <tr>\n",
       "      <th>Atividade</th>\n",
       "      <th></th>\n",
       "      <th></th>\n",
       "      <th></th>\n",
       "      <th></th>\n",
       "    </tr>\n",
       "  </thead>\n",
       "  <tbody>\n",
       "    <tr>\n",
       "      <th>Restaurantes e outros estabelecimentos de serviços de alimentação e bebidas</th>\n",
       "      <td>10692.0</td>\n",
       "      <td>5343.0</td>\n",
       "      <td>3139.0</td>\n",
       "      <td>2936.0</td>\n",
       "    </tr>\n",
       "    <tr>\n",
       "      <th>Transporte terrestre</th>\n",
       "      <td>2984.0</td>\n",
       "      <td>NaN</td>\n",
       "      <td>NaN</td>\n",
       "      <td>NaN</td>\n",
       "    </tr>\n",
       "  </tbody>\n",
       "</table>\n",
       "</div>"
      ],
      "text/plain": [
       "Município                                           Rio de Janeiro (RJ)  \\\n",
       "Atividade                                                                 \n",
       "Restaurantes e outros estabelecimentos de servi...              10692.0   \n",
       "Transporte terrestre                                             2984.0   \n",
       "\n",
       "Município                                           Belo Horizonte (MG)  \\\n",
       "Atividade                                                                 \n",
       "Restaurantes e outros estabelecimentos de servi...               5343.0   \n",
       "Transporte terrestre                                                NaN   \n",
       "\n",
       "Município                                           Fortaleza (CE)  \\\n",
       "Atividade                                                            \n",
       "Restaurantes e outros estabelecimentos de servi...          3139.0   \n",
       "Transporte terrestre                                           NaN   \n",
       "\n",
       "Município                                           Salvador (BA)  \n",
       "Atividade                                                          \n",
       "Restaurantes e outros estabelecimentos de servi...         2936.0  \n",
       "Transporte terrestre                                          NaN  "
      ]
     },
     "execution_count": 29,
     "metadata": {},
     "output_type": "execute_result"
    }
   ],
   "source": [
    "top_5_munic_pivo = tabela_pivo(tabela=top_5_munic_2021, regiao='Município')\n",
    "top_5_munic_pivo"
   ]
  },
  {
   "cell_type": "markdown",
   "metadata": {},
   "source": [
    "Observa-se que o município do `Rio de Janeiro` possui larga diferença dos demais na atividade `Restaurantes`, sendo o dobro de `Belo Horizonte`, o triplo de `Fortaleza` e `Salvador`. Também o município da região Sudeste com mais `Transporte terrestre`."
   ]
  },
  {
   "cell_type": "markdown",
   "metadata": {},
   "source": [
    "Cabe aqui uma observação retirada a partir dos dados: embora `São Paulo` liderou neste ranking, isto provavelmente foi causado pelo valor agregado de vários municípios em detrimento de um único município com quantidade alta de unidades locais, como podemos observar no caso do `Rio de Janeiro`."
   ]
  },
  {
   "cell_type": "markdown",
   "metadata": {},
   "source": [
    "Abaixo vemos as informações dos municípios num gráfico de barras horizontais."
   ]
  },
  {
   "cell_type": "code",
   "execution_count": 30,
   "metadata": {},
   "outputs": [
    {
     "data": {
      "image/png": "[encoded data removed]",
      "text/plain": [
       "<Figure size 432x288 with 1 Axes>"
      ]
     },
     "metadata": {
      "needs_background": "light"
     },
     "output_type": "display_data"
    }
   ],
   "source": [
    "plotar_atividades(tabela=municipios, ano=2021, regiao='Município')"
   ]
  },
  {
   "cell_type": "markdown",
   "metadata": {},
   "source": [
    "Abaixo criamos as tabelas para os demais anos."
   ]
  },
  {
   "cell_type": "code",
   "execution_count": 31,
   "metadata": {},
   "outputs": [],
   "source": [
    "# Lista inicializada para demais anos\n",
    "top_5_munic_anos = []\n",
    "\n",
    "# Laço para criar a tabela por ano\n",
    "for ano in anos:\n",
    "    top_5 = top_5_unidades(tabela=municipios, ano=ano)\n",
    "    top_5_munic_anos.append(tabela_pivo(tabela=top_5, regiao='Município'))"
   ]
  },
  {
   "cell_type": "markdown",
   "metadata": {},
   "source": [
    "Uma análise desses dados não revela padrões diferentes do encontrado para o ano de 2021, repetindo os municípios e propoções semelhantes entre as unidades locais."
   ]
  },
  {
   "cell_type": "markdown",
   "metadata": {},
   "source": [
    "# Conclusão"
   ]
  },
  {
   "cell_type": "markdown",
   "metadata": {},
   "source": [
    "Não foi possível retirar mais informações desses dados devido a um prazo limitado, além de ausência de algumas informações.\n",
    "\n",
    "Conforme consta no arquivo enviado, outras informações pertinentes são:\n",
    "- pessoal ocupado total e assalariado;\n",
    "- salários e outras remunerações;\n",
    "- salários por seção;\n",
    "- divisão;\n",
    "- grupo e classe da classificação de atividades (CNAE 2.0).\n",
    "\n",
    "De posse de mais informações seria possível arriscar maiores análises estatísticas, tanto através de estatística descritiva, com salários e unidades locais, como talvez algumas mais avançadas como correlações, covariância de dados. Além disso, seria possível formular um modelo para análises preditivas."
   ]
  }
 ],
 "metadata": {
  "kernelspec": {
   "display_name": "Python 3",
   "language": "python",
   "name": "python3"
  },
  "language_info": {
   "codemirror_mode": {
    "name": "ipython",
    "version": 3
   },
   "file_extension": ".py",
   "mimetype": "text/x-python",
   "name": "python",
   "nbconvert_exporter": "python",
   "pygments_lexer": "ipython3",
   "version": "3.9.6"
  },
  "orig_nbformat": 4
 },
 "nbformat": 4,
 "nbformat_minor": 2
}
